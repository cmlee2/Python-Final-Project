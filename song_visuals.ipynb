{
 "cells": [
  {
   "cell_type": "code",
   "execution_count": null,
   "metadata": {},
   "outputs": [],
   "source": [
    "# Import Dependencies\n",
    "import pandas as pd\n",
    "import matplotlib.pyplot as plt\n",
    "import json"
   ]
  },
  {
   "cell_type": "code",
   "execution_count": null,
   "metadata": {},
   "outputs": [
    {
     "name": "stdout",
     "output_type": "stream",
     "text": [
      "{'song_data': {'46c7471d-a036-42b3-8db6-9f3e59191879': {'song_name': 'Chihiro', 'artist': 'Billie Eilish', 'album': 'HIT ME HARD AND SOFT', 'album_cover': 'https://lastfm.freetls.fastly.net/i/u/300x300/e69971625c379772fb79213dccfa194f.jpg', 'tags': [['alt-pop', '100'], ['peter', '80'], ['psychedelic pop', '60'], ['deep house', '60'], ['2024', '60']], 'duration_s': 303.0, 'total_plays': 20303728}, '9bf8acfa-edc3-42f4-9030-f6cf3ec41486': {'song_name': 'Not Like Us', 'artist': 'Kendrick Lamar', 'album': 'Not Like Us', 'album_cover': 'https://lastfm.freetls.fastly.net/i/u/300x300/ad04999220beed1745aa499653cd84bd.jpg', 'tags': [['MySpotigramBot', '100'], ['Diss', '56'], ['Hip-Hop', '45'], ['diss track', '45'], ['hip hop', '34']], 'duration_s': 274.0, 'total_plays': 21677531}}, 'song_rankings': ['9bf8acfa-edc3-42f4-9030-f6cf3ec41486', '46c7471d-a036-42b3-8db6-9f3e59191879'], 'album_data': {}, 'album_rankings': [], 'artist_data': {}, 'artist_rankings': []}\n"
     ]
    }
   ],
   "source": [
    "# reading the JSON data using json.load()\n",
    "file = 'rankings.json'\n",
    "with open(file) as rankings:\n",
    "    rank_dict = json.load(rankings)\n",
    "\n"
   ]
  },
  {
   "cell_type": "code",
   "execution_count": 3,
   "metadata": {},
   "outputs": [],
   "source": [
    "\n",
    "# converting json dataset from dictionary to dataframe\n",
    "song_data_pd = pd.DataFrame.from_dict(rank_dict['song_data'], orient='index')\n",
    "artist_data_pd = pd.DataFrame.from_dict(rank_dict['artist_data'], orient='index')\n",
    "album_data_pd = pd.DataFrame.from_dict(rank_dict['album_data'], orient='index')\n"
   ]
  },
  {
   "cell_type": "code",
   "execution_count": 5,
   "metadata": {},
   "outputs": [],
   "source": [
    "\n",
    "# Ensure the ranking list contains unique values\n",
    "song_ranking_list = list(dict.fromkeys(rank_dict['song_rankings'])) \n",
    "artist_ranking_list = list(dict.fromkeys(rank_dict['artist_rankings'])) \n",
    "album_ranking_list = list(dict.fromkeys(rank_dict['album_rankings'])) "
   ]
  },
  {
   "cell_type": "code",
   "execution_count": 6,
   "metadata": {},
   "outputs": [],
   "source": [
    "# Convert ranking_list into a dictionary mapping UUIDs to their ranking position\n",
    "song_ranking_dict = {uuid: rank + 1 for rank, uuid in enumerate(song_ranking_list)}\n",
    "artist_ranking_dict = {uuid: rank + 1 for rank, uuid in enumerate(artist_ranking_list)}\n",
    "album_ranking_dict = {uuid: rank + 1 for rank, uuid in enumerate(album_ranking_list)}\n",
    "\n",
    "# Add the ranking based on the uuid\n",
    "song_data_pd['ranking'] = song_data_pd.index.map(song_ranking_dict)\n",
    "artist_data_pd['ranking'] = song_data_pd.index.map(artist_ranking_dict)\n",
    "album_data_pd['ranking'] = song_data_pd.index.map(album_ranking_dict)\n",
    "\n",
    "# Sort the DataFrame by the ranking column\n",
    "song_data_pd = song_data_pd.sort_values('ranking')\n",
    "artist_data_pd = artist_data_pd.sort_values('ranking')\n",
    "album_data_pd = album_data_pd.sort_values('ranking')"
   ]
  },
  {
   "cell_type": "code",
   "execution_count": 7,
   "metadata": {},
   "outputs": [
    {
     "data": {
      "text/html": [
       "<div>\n",
       "<style scoped>\n",
       "    .dataframe tbody tr th:only-of-type {\n",
       "        vertical-align: middle;\n",
       "    }\n",
       "\n",
       "    .dataframe tbody tr th {\n",
       "        vertical-align: top;\n",
       "    }\n",
       "\n",
       "    .dataframe thead th {\n",
       "        text-align: right;\n",
       "    }\n",
       "</style>\n",
       "<table border=\"1\" class=\"dataframe\">\n",
       "  <thead>\n",
       "    <tr style=\"text-align: right;\">\n",
       "      <th></th>\n",
       "      <th>song_name</th>\n",
       "      <th>artist</th>\n",
       "      <th>album</th>\n",
       "      <th>album_cover</th>\n",
       "      <th>tags</th>\n",
       "      <th>duration_s</th>\n",
       "      <th>total_plays</th>\n",
       "      <th>ranking</th>\n",
       "    </tr>\n",
       "  </thead>\n",
       "  <tbody>\n",
       "    <tr>\n",
       "      <th>9bf8acfa-edc3-42f4-9030-f6cf3ec41486</th>\n",
       "      <td>Not Like Us</td>\n",
       "      <td>Kendrick Lamar</td>\n",
       "      <td>Not Like Us</td>\n",
       "      <td>https://lastfm.freetls.fastly.net/i/u/300x300/...</td>\n",
       "      <td>[[MySpotigramBot, 100], [Diss, 56], [Hip-Hop, ...</td>\n",
       "      <td>274.0</td>\n",
       "      <td>21677531</td>\n",
       "      <td>1</td>\n",
       "    </tr>\n",
       "    <tr>\n",
       "      <th>46c7471d-a036-42b3-8db6-9f3e59191879</th>\n",
       "      <td>Chihiro</td>\n",
       "      <td>Billie Eilish</td>\n",
       "      <td>HIT ME HARD AND SOFT</td>\n",
       "      <td>https://lastfm.freetls.fastly.net/i/u/300x300/...</td>\n",
       "      <td>[[alt-pop, 100], [peter, 80], [psychedelic pop...</td>\n",
       "      <td>303.0</td>\n",
       "      <td>20303728</td>\n",
       "      <td>2</td>\n",
       "    </tr>\n",
       "  </tbody>\n",
       "</table>\n",
       "</div>"
      ],
      "text/plain": [
       "                                        song_name          artist  \\\n",
       "9bf8acfa-edc3-42f4-9030-f6cf3ec41486  Not Like Us  Kendrick Lamar   \n",
       "46c7471d-a036-42b3-8db6-9f3e59191879      Chihiro   Billie Eilish   \n",
       "\n",
       "                                                     album  \\\n",
       "9bf8acfa-edc3-42f4-9030-f6cf3ec41486           Not Like Us   \n",
       "46c7471d-a036-42b3-8db6-9f3e59191879  HIT ME HARD AND SOFT   \n",
       "\n",
       "                                                                            album_cover  \\\n",
       "9bf8acfa-edc3-42f4-9030-f6cf3ec41486  https://lastfm.freetls.fastly.net/i/u/300x300/...   \n",
       "46c7471d-a036-42b3-8db6-9f3e59191879  https://lastfm.freetls.fastly.net/i/u/300x300/...   \n",
       "\n",
       "                                                                                   tags  \\\n",
       "9bf8acfa-edc3-42f4-9030-f6cf3ec41486  [[MySpotigramBot, 100], [Diss, 56], [Hip-Hop, ...   \n",
       "46c7471d-a036-42b3-8db6-9f3e59191879  [[alt-pop, 100], [peter, 80], [psychedelic pop...   \n",
       "\n",
       "                                      duration_s  total_plays  ranking  \n",
       "9bf8acfa-edc3-42f4-9030-f6cf3ec41486       274.0     21677531        1  \n",
       "46c7471d-a036-42b3-8db6-9f3e59191879       303.0     20303728        2  "
      ]
     },
     "execution_count": 7,
     "metadata": {},
     "output_type": "execute_result"
    }
   ],
   "source": [
    "song_data_pd.head()\n"
   ]
  },
  {
   "cell_type": "code",
   "execution_count": 12,
   "metadata": {},
   "outputs": [
    {
     "data": {
      "image/png": "[encoded data removed]",
      "text/plain": [
       "<Figure size 800x600 with 1 Axes>"
      ]
     },
     "metadata": {},
     "output_type": "display_data"
    }
   ],
   "source": [
    "# Build Figure\n",
    "plt.figure(figsize=(8, 6))\n",
    "\n",
    "# Make size dependent on user preference\n",
    "song_data_pd['size'] = song_data_pd['ranking'].max() / song_data_pd['ranking'] * 100  \n",
    "\n",
    "# Scatter plot using Matplotlib\n",
    "plt.scatter(song_data_pd['duration_s'], song_data_pd['total_plays'], s=song_data_pd['size'], c='red', alpha=0.6, edgecolors=\"k\")\n",
    "\n",
    "# Add labels next to points\n",
    "for i, row in song_data_pd.iterrows():\n",
    "    plt.text(row['duration_s'], row['total_plays'], row['song_name'], fontsize=9, ha='right', va='bottom')\n",
    "\n",
    "# Add labels and title\n",
    "plt.xlabel(\"Duration (seconds)\")\n",
    "plt.ylabel(\"Total Plays\")\n",
    "plt.title(\"Scatter Plot of Duration vs. Total Plays (User Favorites are Larger)\")\n",
    "\n",
    "# Show the plot\n",
    "plt.show()"
   ]
  }
 ],
 "metadata": {
  "kernelspec": {
   "display_name": "Python-Final-Project-6JxT40Jy",
   "language": "python",
   "name": "python3"
  },
  "language_info": {
   "codemirror_mode": {
    "name": "ipython",
    "version": 3
   },
   "file_extension": ".py",
   "mimetype": "text/x-python",
   "name": "python",
   "nbconvert_exporter": "python",
   "pygments_lexer": "ipython3",
   "version": "3.12.4"
  }
 },
 "nbformat": 4,
 "nbformat_minor": 2
}
