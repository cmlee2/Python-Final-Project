{
 "cells": [
  {
   "cell_type": "code",
   "execution_count": 33,
   "metadata": {},
   "outputs": [],
   "source": [
    "# Import Dependencies\n",
    "import pandas as pd\n",
    "import matplotlib.pyplot as plt\n",
    "import json\n"
   ]
  },
  {
   "cell_type": "code",
   "execution_count": 34,
   "metadata": {},
   "outputs": [],
   "source": [
    "# reading the JSON data using json.load()\n",
    "file = 'rankings.json'\n",
    "with open(file) as rankings:\n",
    "    rank_dict = json.load(rankings)\n",
    "\n"
   ]
  },
  {
   "cell_type": "code",
   "execution_count": 35,
   "metadata": {},
   "outputs": [],
   "source": [
    "\n",
    "# converting json dataset from dictionary to dataframe\n",
    "song_data_df = pd.DataFrame.from_dict(rank_dict['song_data'], orient='index')\n",
    "artist_data_df = pd.DataFrame.from_dict(rank_dict['artist_data'], orient='index')\n",
    "# album_data_pd = pd.DataFrame.from_dict(rank_dict['album_data'], orient='index')\n"
   ]
  },
  {
   "cell_type": "code",
   "execution_count": 36,
   "metadata": {},
   "outputs": [],
   "source": [
    "\n",
    "# Ensure the ranking list contains unique values\n",
    "song_ranking_list = list(dict.fromkeys(rank_dict['song_rankings'])) \n",
    "artist_ranking_list = list(dict.fromkeys(rank_dict['artist_rankings'])) \n",
    "# album_ranking_list = list(dict.fromkeys(rank_dict['album_rankings'])) "
   ]
  },
  {
   "cell_type": "code",
   "execution_count": 37,
   "metadata": {},
   "outputs": [],
   "source": [
    "# Convert ranking_list into a dictionary mapping UUIDs to their ranking position\n",
    "song_ranking_dict = {uuid: rank + 1 for rank, uuid in enumerate(song_ranking_list)}\n",
    "artist_ranking_dict = {uuid: rank + 1 for rank, uuid in enumerate(artist_ranking_list)}\n",
    "# album_ranking_dict = {uuid: rank + 1 for rank, uuid in enumerate(album_ranking_list)}\n"
   ]
  },
  {
   "cell_type": "code",
   "execution_count": 38,
   "metadata": {},
   "outputs": [],
   "source": [
    "\n",
    "# Add the ranking based on the uuid\n",
    "song_data_df['ranking'] = song_data_df.index.map(song_ranking_dict)\n",
    "artist_data_df['ranking'] = artist_data_df.index.map(artist_ranking_dict)\n",
    "# album_data_pd['ranking'] = song_data_pd.index.map(album_ranking_dict)\n",
    "\n",
    "# Sort the DataFrame by the ranking column\n",
    "song_data_df = song_data_df.sort_values('ranking')\n",
    "artist_data_df = artist_data_df.sort_values('ranking')\n",
    "# album_data_pd = album_data_pd.sort_values('ranking')"
   ]
  },
  {
   "cell_type": "code",
   "execution_count": 39,
   "metadata": {},
   "outputs": [
    {
     "data": {
      "text/html": [
       "<div>\n",
       "<style scoped>\n",
       "    .dataframe tbody tr th:only-of-type {\n",
       "        vertical-align: middle;\n",
       "    }\n",
       "\n",
       "    .dataframe tbody tr th {\n",
       "        vertical-align: top;\n",
       "    }\n",
       "\n",
       "    .dataframe thead th {\n",
       "        text-align: right;\n",
       "    }\n",
       "</style>\n",
       "<table border=\"1\" class=\"dataframe\">\n",
       "  <thead>\n",
       "    <tr style=\"text-align: right;\">\n",
       "      <th></th>\n",
       "      <th>song_name</th>\n",
       "      <th>artist</th>\n",
       "      <th>album</th>\n",
       "      <th>album_cover</th>\n",
       "      <th>tags</th>\n",
       "      <th>duration_s</th>\n",
       "      <th>total_plays</th>\n",
       "      <th>ranking</th>\n",
       "    </tr>\n",
       "  </thead>\n",
       "  <tbody>\n",
       "    <tr>\n",
       "      <th>dab931a9-a23a-44c7-bb1f-4405d7d6956a</th>\n",
       "      <td>luther (ft. sza)</td>\n",
       "      <td>kendrick lamar</td>\n",
       "      <td>Unknown</td>\n",
       "      <td>No Image Available</td>\n",
       "      <td>[]</td>\n",
       "      <td>0.0</td>\n",
       "      <td>334</td>\n",
       "      <td>1</td>\n",
       "    </tr>\n",
       "    <tr>\n",
       "      <th>9d452dee-943b-4c5a-bb1e-7fdbce1c7b30</th>\n",
       "      <td>Love Story</td>\n",
       "      <td>Taylor Swift</td>\n",
       "      <td>Fearless</td>\n",
       "      <td>https://lastfm.freetls.fastly.net/i/u/300x300/...</td>\n",
       "      <td>[[country, 100], [taylor swift, 76], [Love, 58...</td>\n",
       "      <td>350.0</td>\n",
       "      <td>10259470</td>\n",
       "      <td>2</td>\n",
       "    </tr>\n",
       "  </tbody>\n",
       "</table>\n",
       "</div>"
      ],
      "text/plain": [
       "                                             song_name          artist  \\\n",
       "dab931a9-a23a-44c7-bb1f-4405d7d6956a  luther (ft. sza)  kendrick lamar   \n",
       "9d452dee-943b-4c5a-bb1e-7fdbce1c7b30        Love Story    Taylor Swift   \n",
       "\n",
       "                                         album  \\\n",
       "dab931a9-a23a-44c7-bb1f-4405d7d6956a   Unknown   \n",
       "9d452dee-943b-4c5a-bb1e-7fdbce1c7b30  Fearless   \n",
       "\n",
       "                                                                            album_cover  \\\n",
       "dab931a9-a23a-44c7-bb1f-4405d7d6956a                                 No Image Available   \n",
       "9d452dee-943b-4c5a-bb1e-7fdbce1c7b30  https://lastfm.freetls.fastly.net/i/u/300x300/...   \n",
       "\n",
       "                                                                                   tags  \\\n",
       "dab931a9-a23a-44c7-bb1f-4405d7d6956a                                                 []   \n",
       "9d452dee-943b-4c5a-bb1e-7fdbce1c7b30  [[country, 100], [taylor swift, 76], [Love, 58...   \n",
       "\n",
       "                                      duration_s  total_plays  ranking  \n",
       "dab931a9-a23a-44c7-bb1f-4405d7d6956a         0.0          334        1  \n",
       "9d452dee-943b-4c5a-bb1e-7fdbce1c7b30       350.0     10259470        2  "
      ]
     },
     "execution_count": 39,
     "metadata": {},
     "output_type": "execute_result"
    }
   ],
   "source": [
    "song_data_df.head()\n"
   ]
  },
  {
   "cell_type": "code",
   "execution_count": 43,
   "metadata": {},
   "outputs": [
    {
     "data": {
      "image/png": "[encoded data removed]",
      "text/plain": [
       "<Figure size 800x600 with 1 Axes>"
      ]
     },
     "metadata": {},
     "output_type": "display_data"
    }
   ],
   "source": [
    "# Build Figure\n",
    "plt.figure(figsize=(8, 6))\n",
    "\n",
    "# Make size dependent on user preference\n",
    "song_data_df['size'] = song_data_df['ranking'].max() / song_data_df['ranking'] * 100  \n",
    "\n",
    "# Scatter plot using Matplotlib\n",
    "plt.scatter(song_data_df['duration_s'], song_data_df['total_plays']/1000, s=song_data_df['size'], c='red', alpha=0.6, edgecolors=\"k\")\n",
    "\n",
    "# Add labels next to points\n",
    "for i, row in song_data_df.iterrows():\n",
    "    plt.text(row['duration_s'], row['total_plays']/1000, row['song_name'], fontsize=9, ha='right', va='bottom')\n",
    "\n",
    "# Add labels and title\n",
    "plt.xlabel(\"Duration (seconds)\")\n",
    "plt.ylabel(\"Total Plays in Thousands\")\n",
    "plt.title(\"Scatter Plot of Duration vs. Total Plays (User Favorites are Larger)\")\n",
    "\n",
    "\n",
    "# Show the plot\n",
    "plt.show()"
   ]
  }
 ],
 "metadata": {
  "kernelspec": {
   "display_name": "Python-Final-Project-6JxT40Jy",
   "language": "python",
   "name": "python3"
  },
  "language_info": {
   "codemirror_mode": {
    "name": "ipython",
    "version": 3
   },
   "file_extension": ".py",
   "mimetype": "text/x-python",
   "name": "python",
   "nbconvert_exporter": "python",
   "pygments_lexer": "ipython3",
   "version": "3.12.4"
  }
 },
 "nbformat": 4,
 "nbformat_minor": 2
}
